{
 "cells": [
  {
   "cell_type": "code",
   "execution_count": 1,
   "id": "7b9fa3d6-659f-41ec-84a6-a4e0f74483fc",
   "metadata": {},
   "outputs": [],
   "source": [
    "##########==========##########==========##########==========##########=========="
   ]
  },
  {
   "cell_type": "markdown",
   "id": "483602c9-ee7e-41db-b699-f94f3d4c47f5",
   "metadata": {},
   "source": [
    "## H - Header"
   ]
  },
  {
   "cell_type": "markdown",
   "id": "0ecd1788-b7ae-4804-90f4-9cc6e1c7212f",
   "metadata": {},
   "source": [
    "#### H1 – libraries"
   ]
  },
  {
   "cell_type": "code",
   "execution_count": 2,
   "id": "c402192e-708e-4a74-a345-c7bfea14b411",
   "metadata": {},
   "outputs": [],
   "source": [
    "## standard foundational libraries\n",
    "import numpy             as np\n",
    "import pandas            as pd\n",
    "import matplotlib.pyplot as plt\n",
    "\n",
    "## import specific function\n",
    "from os                 import mkdir, listdir\n",
    "from os.path            import isfile, isdir\n",
    "from datetime           import datetime, timedelta\n",
    "from dbfread            import DBF\n",
    "from geopy.distance     import geodesic\n",
    "from ipyparallel        import Cluster\n",
    "from sklearn.cluster    import AgglomerativeClustering, DBSCAN, OPTICS\n",
    "from scipy.spatial      import Voronoi\n",
    "from shapely.geometry   import Polygon\n",
    "from shapely.ops        import unary_union\n",
    "from shapely.validation import make_valid\n",
    "from matplotlib.colors  import hsv_to_rgb, to_hex\n",
    "from cartopy.crs        import LambertConformal, PlateCarree\n",
    "from cartopy            import feature"
   ]
  },
  {
   "cell_type": "markdown",
   "id": "266e6bfc-e689-4615-9477-57587afc184a",
   "metadata": {},
   "source": [
    "#### H2 – basic automation"
   ]
  },
  {
   "cell_type": "code",
   "execution_count": 3,
   "id": "97f50357-a7fd-4ad3-9952-7de305854e8f",
   "metadata": {},
   "outputs": [],
   "source": [
    "## set up standard directories if needed\n",
    "def make_standard_file_system():\n",
    "    for i in ['A_Input', 'B_Intermediate', 'C_Output']:\n",
    "        if not isdir(i): mkdir(i)\n",
    "\n",
    "## log time elapsed\n",
    "time_log = dict()\n",
    "def log_time(the_id = 'End Log'):\n",
    "    \n",
    "    ## construct new time stamp\n",
    "    now_time = str(datetime.now().hour).zfill(2)\n",
    "    now_time = now_time +':'+ str(datetime.now().minute).zfill(2)\n",
    "    now_time = now_time +':'+ str(datetime.now().second).zfill(2)\n",
    "\n",
    "    ## add to time log\n",
    "    if the_id == 'End Log':\n",
    "        time_log['End'] = now_time\n",
    "        print('Time log:')\n",
    "        for i in time_log.keys():\n",
    "            print(i.rjust(5) + ':', time_log[i])\n",
    "    else:\n",
    "        time_log[the_id] = now_time\n",
    "        \n",
    "## toggle cache versus build\n",
    "def build_or_cache(function, address, permit):\n",
    "    if permit and isfile(address):\n",
    "        print('Build/Cache Decision: Cache')\n",
    "        the_file = pd.read_csv(address, index_col = 0)\n",
    "    else:\n",
    "        print('Build/Cache Decision: Build')\n",
    "        the_file = function()\n",
    "    return the_file\n",
    "    \n",
    "## execute functions\n",
    "make_standard_file_system()\n",
    "log_time('H2')"
   ]
  },
  {
   "cell_type": "markdown",
   "id": "aa200f04-560d-41a2-aa39-32cde6a5fcdd",
   "metadata": {},
   "source": [
    "#### H3 – settings"
   ]
  },
  {
   "cell_type": "code",
   "execution_count": 4,
   "id": "2a810ea4-69f8-446d-ae9b-fae82f7a0023",
   "metadata": {},
   "outputs": [],
   "source": [
    "## server mode (switches off data sampling; full distance data too big for a PC)\n",
    "server_mode = False\n",
    "\n",
    "## GD settings\n",
    "set_gd = dict()\n",
    "\n",
    "## RD settings\n",
    "set_rd = {'1_cache': True}\n",
    "\n",
    "## MD settings\n",
    "set_md = {'1_cache': True, '2_cache': True, 'db_min_size': 100 / 4}\n",
    "\n",
    "## EMR settings\n",
    "set_emr = dict()\n",
    "\n",
    "## PVD settings\n",
    "set_pvd = dict()\n",
    "\n",
    "## RV settings\n",
    "set_rv = {\n",
    "    'extent': [-124.73 + 5, -66.95 - 5, 25.12 - 3.3, 49.38 + 3.3],\n",
    "    'map_proj': LambertConformal(\n",
    "        central_longitude = (-124.73 - 66.95) / 2,\n",
    "        central_latitude = (25.12 + 49.38) / 2,\n",
    "        standard_parallels = (25.12, 49.38)\n",
    "        )\n",
    "    }"
   ]
  },
  {
   "cell_type": "code",
   "execution_count": 5,
   "id": "af2fa11f-67b0-4484-9091-76a23422f9d5",
   "metadata": {},
   "outputs": [],
   "source": [
    "set_color = {\n",
    "    'div'     : hsv_to_rgb((1 / 12, 1.0, 0.5)),\n",
    "    'text'    : hsv_to_rgb((1 / 12, 1.0, 0.5)),\n",
    "    'empty'   : hsv_to_rgb((1 / 12, 0.1, 1.0)),\n",
    "    'border'  : hsv_to_rgb((1 / 12, 0.2, 0.9)),\n",
    "    'reg_line': hsv_to_rgb((7 / 12, 1.0, 0.7)),\n",
    "    'reg_area': hsv_to_rgb((7 / 12, 0.1, 1.0)),\n",
    "    'tract'   : hsv_to_rgb((7 / 12, 1.0, 0.5)),\n",
    "    'bar_dark': hsv_to_rgb((7 / 12, 1.0, 0.5)),\n",
    "    'bar_pop' : hsv_to_rgb((7 / 12, 0.7, 0.7))\n",
    "    }"
   ]
  },
  {
   "cell_type": "markdown",
   "id": "9996ca5b-6afa-4efd-beec-4478c9896c4c",
   "metadata": {},
   "source": [
    "## GD - Gather Data"
   ]
  },
  {
   "cell_type": "markdown",
   "id": "d373c0c5-10b3-4028-95c4-ed57b16fdff3",
   "metadata": {},
   "source": [
    "Primary data source:\n",
    "+ 2020 TIGER shapefiles from the US Census (the .dbf files)\n",
    "+ 2020 DP series population summary tables from US Census (as needed)"
   ]
  },
  {
   "cell_type": "markdown",
   "id": "3b2efc95-73d7-4ea5-a4bf-4c531d8dc57b",
   "metadata": {},
   "source": [
    "#### GD1 - read in primary data (census tract shapefile .dbfs)"
   ]
  },
  {
   "cell_type": "code",
   "execution_count": 6,
   "id": "1c9897df-5ebb-46bd-a49e-98718c379f6b",
   "metadata": {
    "tags": []
   },
   "outputs": [],
   "source": [
    "## read in dbf files for census tracts\n",
    "def read_tract_dbf(directory):\n",
    "    \n",
    "    ## file dbf files in target directory\n",
    "    dbf_addr = listdir(directory)\n",
    "    dbf_addr = [i for i in dbf_addr if i[-3::] == 'dbf']\n",
    "    \n",
    "    ## read relevant columns from each\n",
    "    desired_columns = {'GEOID': str,\n",
    "                       'STATEFP': str, 'COUNTYFP':str, 'TRACTCE':str,\n",
    "                        'INTPTLAT': float, 'INTPTLON': float, 'ALAND': int}\n",
    "    dbf_data = []\n",
    "    for i in dbf_addr:\n",
    "        i_dbf = pd.DataFrame(iter(DBF(directory + '/' + i)))\n",
    "        i_dbf = i_dbf[desired_columns.keys()].astype(desired_columns)\n",
    "        dbf_data.append(i_dbf)\n",
    "        \n",
    "    ## compile data into a single file and export\n",
    "    dbf_data = pd.concat(dbf_data, axis = 0).sort_values('GEOID')\n",
    "    dbf_data['count'] = 1\n",
    "    dbf_data = dbf_data.reset_index(drop = True)\n",
    "    dbf_data.to_csv('B_Intermediate/dbf_data.csv.gz')\n",
    "    return dbf_data\n",
    "    \n",
    "## execute code\n",
    "dbf_data = read_tract_dbf('A_Input/tracts_dbf')\n",
    "if not server_mode: # 04 = AZ, 08 = CO, NM = 35, UT = 49\n",
    "    dbf_data = dbf_data.loc[dbf_data.STATEFP.isin(['49', '08', '04', '35'])]\n",
    "log_time('GD1')"
   ]
  },
  {
   "cell_type": "markdown",
   "id": "dca96540-be5a-4a32-b864-e943df7b9fec",
   "metadata": {},
   "source": [
    "#### GD2 - Read in secondary data (census DP table columns)"
   ]
  },
  {
   "cell_type": "code",
   "execution_count": 7,
   "id": "b201aacb-a203-42ba-a23a-dd759d3dbd5c",
   "metadata": {},
   "outputs": [],
   "source": [
    "def read_secondary_data():\n",
    "    \n",
    "    global potus, income, census\n",
    "    \n",
    "    ## read in political voting data\n",
    "    potus = {'year':int, 'state_po':str, 'county_fips': str, 'mode':str,\n",
    "             'party':str, 'candidatevotes':int, 'totalvotes':int}\n",
    "    potus = pd.read_csv('A_Input/countypres_2000-2020.csv.zip',\n",
    "            dtype = potus, usecols = potus.keys()).set_index('county_fips')\n",
    "    \n",
    "    ## read in income data (income > $200k)\n",
    "    income = {'GEO_ID':str, 'DP03_0061E':str, 'DP03_0051E':str}\n",
    "    income = pd.read_csv(\n",
    "        'A_Input/ACSDP5Y2020.DP03_data_with_overlays_2022-04-07T230902.csv.zip',\n",
    "        dtype = income, usecols = income.keys()).set_index('GEO_ID')\n",
    "    \n",
    "    ## read in population, age, race data (≥65yrs, non-hispanic white)\n",
    "    census = {'GEO_ID':str, 'DP05_0001E':str, 'DP05_0024E':str,'DP05_0077E':str}\n",
    "    census = pd.read_csv(\n",
    "        'A_Input/ACSDP5Y2020.DP05_data_with_overlays_2022-04-21T111919.csv.zip',\n",
    "        dtype = census, usecols = census.keys()).set_index('GEO_ID')\n",
    "\n",
    "## execute code\n",
    "read_secondary_data()"
   ]
  },
  {
   "cell_type": "markdown",
   "id": "c59b35fe-09d5-449c-80f7-b9cf0b0cfc37",
   "metadata": {},
   "source": [
    "## RD - Refine Data"
   ]
  },
  {
   "cell_type": "markdown",
   "id": "52bba94a-9f9a-496d-b8b2-454bcad0619d",
   "metadata": {},
   "source": [
    "#### RD1 – calculate and cache geographic distances between tract centroids"
   ]
  },
  {
   "cell_type": "code",
   "execution_count": 8,
   "id": "11a9c611-546b-4d5c-b717-3f6c54cd656a",
   "metadata": {},
   "outputs": [
    {
     "name": "stdout",
     "output_type": "stream",
     "text": [
      "Build/Cache Decision: Cache\n"
     ]
    }
   ],
   "source": [
    "## reshape tract coordinate data to input format\n",
    "tract_xy = list(zip(dbf_data.INTPTLAT.values, dbf_data.INTPTLON.values))\n",
    "\n",
    "## define function to do distance compuations in parallel\n",
    "def measure_distance_in_parallel(xy = tract_xy):\n",
    "    the_iter = list(range(0, len(xy)))\n",
    "    \n",
    "    ## define engine function that will run on each parallel process\n",
    "    def measure_distance_parallel_slice(n, xy_col = xy):\n",
    "        from geopy.distance import geodesic\n",
    "        xy_col = xy_col.copy()\n",
    "        xy_row = xy_col[n]\n",
    "        xy_dist = []\n",
    "        for i in xy_col[0:n]: xy_dist.append(0)\n",
    "        for i in xy_col[n::]:\n",
    "            xy_dist.append(int(round(geodesic(xy_row, i).miles)))\n",
    "        return xy_dist\n",
    "\n",
    "    ## run engine in parallel for each slice of the data\n",
    "    with Cluster(n = 4) as clust:\n",
    "        view = clust.load_balanced_view()\n",
    "        asyncresult = view.map_async(measure_distance_parallel_slice, the_iter)\n",
    "        asyncresult.wait_interactive()\n",
    "        result = asyncresult.get()\n",
    "        \n",
    "    ## package results and export\n",
    "    result = np.array(result)\n",
    "    result = result + result.T\n",
    "    result = pd.DataFrame(result)\n",
    "    result.to_csv('B_Intermediate/tract_distance.csv.gz')\n",
    "    return result\n",
    "\n",
    "tract_distance = build_or_cache(\n",
    "    function = measure_distance_in_parallel,\n",
    "    address = 'B_Intermediate/tract_distance.csv.gz',\n",
    "    permit = set_rd['1_cache']\n",
    "    )\n",
    "\n",
    "del tract_xy\n",
    "\n",
    "log_time('RD1')"
   ]
  },
  {
   "cell_type": "markdown",
   "id": "9601721c-6ac0-4206-8b41-7dc0f99ba12a",
   "metadata": {},
   "source": [
    "#### RD2 - unify all census datasets"
   ]
  },
  {
   "cell_type": "code",
   "execution_count": 9,
   "id": "cd121a39-e3dd-4dca-a014-6b67d5a1b2ce",
   "metadata": {},
   "outputs": [],
   "source": [
    "def refine_census_data(i = income, c = census, d = dbf_data):\n",
    "    \n",
    "    ## merge DP03 and DP05 census data\n",
    "    c = census.join(i)\n",
    "    \n",
    "    ## fix column and index names\n",
    "    cn = c.loc['id', :].str.lower().str.replace(' ', '_').str.split('!!')\n",
    "    cn = [i[len(i) - 1] for i in cn]\n",
    "    c.columns = cn\n",
    "    c = c.drop('id').dropna()\n",
    "    c.index = c.index.str.slice(9)\n",
    "    \n",
    "    ## filter census data to match the dbf files\n",
    "    c = c.loc[d.GEOID, :].reset_index().rename({'GEO_ID':'GEOID'}, axis = 1)\n",
    "    \n",
    "    ## convert count data types to integer and export\n",
    "    for i in c.columns[1::]: c[i] = c[i].astype(int)\n",
    "    return c\n",
    "\n",
    "## execute data\n",
    "census_data = refine_census_data()\n",
    "del census, income"
   ]
  },
  {
   "cell_type": "markdown",
   "id": "349903c8-3bbe-489b-a20c-0a7725fa7933",
   "metadata": {},
   "source": [
    "#### RD3 - convert potus data to census tract scores and merge"
   ]
  },
  {
   "cell_type": "code",
   "execution_count": 10,
   "id": "a70b3a0f-3b80-4a2f-bbb1-90a86a21df67",
   "metadata": {},
   "outputs": [
    {
     "name": "stdout",
     "output_type": "stream",
     "text": [
      "TODO: switch this to non-Euclidean distance\n",
      "TODO: switch this to non-Euclidean distance\n",
      "TODO: switch this to non-Euclidean distance\n",
      "TODO: switch this to non-Euclidean distance\n",
      "TODO: switch this to non-Euclidean distance\n",
      "\n",
      "            GEOID  total_population  65_years_and_over  white_alone  \\\n",
      "0     04001942600              1711                229            0   \n",
      "1     04001942700              5469                759           49   \n",
      "2     04001944000              6577               1033          147   \n",
      "3     04001944100              6183                637          202   \n",
      "4     04001944201              4540                523          163   \n",
      "...           ...               ...                ...          ...   \n",
      "4535  49057210900              7153               1028         5482   \n",
      "4536  49057211000              3184                461         2451   \n",
      "4537  49057211100              5622               1088         4839   \n",
      "4538  49057211201              4209                726         3555   \n",
      "4539  49057211202              7154               1466         6319   \n",
      "\n",
      "      $200,000_or_more  total_votes  rep_votes  \n",
      "0                   11          896        488  \n",
      "1                   37         2914       1631  \n",
      "2                  115         3002       1259  \n",
      "3                   22         2859       1315  \n",
      "4                    0         2029        871  \n",
      "...                ...          ...        ...  \n",
      "4535               398         3323       2059  \n",
      "4536                 0         1465        902  \n",
      "4537               113         2614       1618  \n",
      "4538               306         2010       1271  \n",
      "4539               313         3371       2103  \n",
      "\n",
      "[4540 rows x 7 columns]\n"
     ]
    }
   ],
   "source": [
    "from sklearn.neighbors import KNeighborsRegressor\n",
    "\n",
    "def merge_potus_data(d = dbf_data, p = potus, c = census_data):\n",
    "    \n",
    "    ## calculate population centroid for each county\n",
    "    county_xy = d.copy()[['GEOID', 'INTPTLON', 'INTPTLAT']]\n",
    "    county_xy['county_fips'] = county_xy['GEOID'].str.slice(0, 5)\n",
    "    county_xy = county_xy.groupby('county_fips').mean()\n",
    "    \n",
    "    ## repair missing totals in source data for some states\n",
    "    i = (p.year == 2020) * (p.party == 'REPUBLICAN') * (p['mode'] != 'TOTAL')\n",
    "    i = i.astype(bool)\n",
    "    missing_total = p.loc[i, ['candidatevotes', 'totalvotes']].copy()\n",
    "    missing_total = missing_total.groupby(missing_total.index)\n",
    "    missing_sum = missing_total.sum()\n",
    "    missing_total = missing_total.max()\n",
    "    missing_total['candidatevotes'] = missing_sum['candidatevotes']\n",
    "\n",
    "    ## simplify potus vote data\n",
    "    i = (p.year == 2020) * (p.party == 'REPUBLICAN') * (p['mode'] == 'TOTAL')\n",
    "    p = p.loc[i.astype(bool), ]\n",
    "    p = p.drop(['year', 'state_po', 'party', 'mode'], axis = 1) \n",
    "\n",
    "    ## repair missing vote totals and merge into county coordinates\n",
    "    missing_total = missing_total.loc[~missing_total.index.isin(p.index), ]\n",
    "    p = pd.concat([p, missing_total], axis = 0)\n",
    "    p = p.rename({'candidatevotes':'repvotes'}, axis = 1)\n",
    "    p = county_xy.join(p)\n",
    "    \n",
    "    ## calculate total county population and merge into the politics object\n",
    "    pop_total = c.copy()[['GEOID', 'total_population']]\n",
    "    pop_total['GEOID'] = pop_total['GEOID'].str.slice(0, 5)\n",
    "    pop_total = pop_total.groupby('GEOID').sum().reset_index()\n",
    "    pop_total = pop_total.rename(\n",
    "        {'GEOID':'county_fips', 'total_population':'totalpop'}, axis = 1)\n",
    "    p = p.join(pop_total.set_index('county_fips'))\n",
    "    \n",
    "    ## convert figures to percentages\n",
    "    p['repvotes']  = (p['repvotes'] / p['totalvotes']).round(6)\n",
    "    p['totalvotes'] = (p['totalvotes'] / p['totalpop']).round(6)\n",
    "    \n",
    "    ## retrieve coordinates from dbf_data to census_data\n",
    "    c = c.set_index('GEOID')\n",
    "    d = d.set_index('GEOID')\n",
    "    c = c.join(d[['INTPTLON', 'INTPTLAT']])\n",
    "    \n",
    "    print('TODO: switch this to non-Euclidean distance\\n' * 5)\n",
    "    \n",
    "    ## -- train knn model on p\n",
    "\n",
    "    ## interpolate total potus votes\n",
    "    tot_model = KNeighborsRegressor(weights = 'distance')\n",
    "    tot_model = tot_model.fit(p[['INTPTLON', 'INTPTLAT']], p['totalvotes'])\n",
    "    c['total_votes'] = tot_model.predict(c[['INTPTLON', 'INTPTLAT']])\n",
    "    c['total_votes'] = (c['total_votes'] * c['total_population']).astype(int)\n",
    "    \n",
    "    ## interpolate republican potus votes\n",
    "    rep_model = KNeighborsRegressor(weights = 'distance')\n",
    "    rep_model = rep_model.fit(p[['INTPTLON', 'INTPTLAT']], p['repvotes'])\n",
    "    c['rep_votes'] = rep_model.predict(c[['INTPTLON', 'INTPTLAT']])\n",
    "    c['rep_votes'] = (c['rep_votes'] * c['total_votes']).astype(int)\n",
    "    \n",
    "    ## interpolate high-income population from high-income households\n",
    "    ##k = c['total_population'] / np.maximum(c['total_households'], 1)\n",
    "    ##c['total_households'] = np.round(c['total_households'] * k).astype(int)\n",
    "    ##c['$200,000_or_more'] = np.round(c['$200,000_or_more'] * k).astype(int)\n",
    "    \n",
    "    ## export results\n",
    "    c = c.drop(['INTPTLON', 'INTPTLAT', 'total_households'], axis = 1)\n",
    "    return c.reset_index()\n",
    "    \n",
    "## execute code\n",
    "census_data = merge_potus_data()\n",
    "del potus"
   ]
  },
  {
   "cell_type": "markdown",
   "id": "ab2bc34c-768b-456c-9c94-ec44196844c8",
   "metadata": {},
   "source": [
    "## MD - Model Data"
   ]
  },
  {
   "cell_type": "markdown",
   "id": "249e4eb3-1b81-4b8f-9700-13e04174d097",
   "metadata": {},
   "source": [
    "#### MD0 - build common components"
   ]
  },
  {
   "cell_type": "code",
   "execution_count": 11,
   "id": "06aa2b3b-cc94-447f-91c0-99ba2dfe6f15",
   "metadata": {},
   "outputs": [],
   "source": [
    "## score model\n",
    "def score_model(clusters, d):\n",
    "    score = clusters * np.ones(d.shape)\n",
    "    mask = (score != -1) & (score.T != -1)\n",
    "    score = (score == score.T) * mask * np.array(d)\n",
    "    the_denom = np.sum(d.sum().values)\n",
    "    return np.round(np.sum(score) / the_denom, 3)\n",
    "\n",
    "## run model across different parameters\n",
    "model_name = 'EMPTY'\n",
    "model_list = dict()\n",
    "def run_model(dist = tract_distance):\n",
    "    \n",
    "    ##  retrieve objects from external environment\n",
    "    model_dict = model_list\n",
    "    addr_name = model_name\n",
    "    \n",
    "    ## declare container objects for model results\n",
    "    model_clusters = dict()\n",
    "    model_stats    = dict()\n",
    "    \n",
    "    ## fit model and populate container objects with model performance data\n",
    "    for i in model_dict.keys():\n",
    "        model_clusters[i] = model_dict[i].fit_predict(dist)\n",
    "        model_stats[i] = dict()\n",
    "        model_stats[i]['name'] = i\n",
    "        model_stats[i]['score'] = score_model(model_clusters[i], d = dist)\n",
    "        model_stats[i]['clusters'] = len(set(model_clusters[i]))\n",
    "        model_stats[i]['outliers'] = sum(model_clusters[i] == -1)\n",
    "        \n",
    "    ## package results and export\n",
    "    model_clusters = pd.DataFrame(model_clusters)\n",
    "    model_clusters.to_csv('B_Intermediate/Model_' + addr_name + '_Clust.csv.gz')\n",
    "    model_stats = pd.DataFrame(model_stats).T\n",
    "    model_stats = model_stats.astype({'clusters':int, 'outliers':int})\n",
    "    model_stats.to_csv('B_Intermediate/Model_' + addr_name + '_Stats.csv')\n",
    "    return model_stats"
   ]
  },
  {
   "cell_type": "markdown",
   "id": "53422e30-1a5d-4e66-8f4a-431413efad83",
   "metadata": {},
   "source": [
    "#### MD1 and MD2 - run models"
   ]
  },
  {
   "cell_type": "code",
   "execution_count": 12,
   "id": "ddd5cd65-9122-4230-be26-e594d798ab99",
   "metadata": {},
   "outputs": [
    {
     "name": "stdout",
     "output_type": "stream",
     "text": [
      "Build/Cache Decision: Cache\n",
      "Build/Cache Decision: Cache\n"
     ]
    }
   ],
   "source": [
    "## -- cluster population by agglomeration\n",
    "\n",
    "## assemble models\n",
    "model_agglom = dict()\n",
    "for i in range(250 - 150, 250 + 150, 10):\n",
    "    model_iter = AgglomerativeClustering(\n",
    "        n_clusters = None, compute_full_tree = True,\n",
    "        affinity = 'precomputed', linkage = 'average',\n",
    "        distance_threshold = i)\n",
    "    model_agglom[str(int(i))] = model_iter\n",
    "    \n",
    "## execute models\n",
    "model_name = 'Agglom'\n",
    "model_list = model_agglom\n",
    "agglom_score = build_or_cache(\n",
    "    function = run_model,\n",
    "    address = 'B_Intermediate/Model_' + model_name + '_Stats.csv',\n",
    "    permit = set_md['1_cache']\n",
    "    )\n",
    "\n",
    "log_time('MD1')\n",
    "\n",
    "## -- cluster population by DBSCAN\n",
    "\n",
    "## assemble models\n",
    "model_dbscan = dict()\n",
    "for i in range(10, 150, 10):\n",
    "    model_iter = DBSCAN(eps = i, metric = 'precomputed', n_jobs = 8, min_samples = set_md['db_min_size'])\n",
    "    model_dbscan[str(int(i))] = model_iter\n",
    "    \n",
    "## execute models\n",
    "model_name = 'DBSCAN'\n",
    "model_list = model_dbscan\n",
    "dbscan_score = build_or_cache(\n",
    "    function = run_model,\n",
    "    address = 'B_Intermediate/Model_' + model_name + '_Stats.csv',\n",
    "    permit = set_md['2_cache']\n",
    "    )\n",
    "\n",
    "log_time('MD2')"
   ]
  },
  {
   "cell_type": "markdown",
   "id": "93bbe447-728d-4232-9225-291e8d094ea6",
   "metadata": {},
   "source": [
    "#### MD3 - Select Optimal Number of Clusters"
   ]
  },
  {
   "cell_type": "code",
   "execution_count": 13,
   "id": "be383a79-a7fd-432b-90f3-bf6b81c166f4",
   "metadata": {},
   "outputs": [],
   "source": [
    "max_min_norm = lambda x: (x - min(x)) / (max(x) - min(x)) \n",
    "\n",
    "def elbow_finder(xy, tie_breaker = max):\n",
    "    ## normalize scores\n",
    "    xy_index = xy.index\n",
    "    xy = xy.apply(max_min_norm).reset_index(drop = True)\n",
    "    xy = np.array(xy)\n",
    "    \n",
    "    ## calculate reference line\n",
    "    xy_ref = np.vstack([np.arange(0, 1, 0.001), np.arange(1, 0, -0.001)]).T\n",
    "    \n",
    "    ## find distance from each point to each reference point\n",
    "    x_dist = (xy[:, 0] - xy_ref[:, 0].reshape(-1, 1))**2\n",
    "    y_dist = (xy[:, 1] - xy_ref[:, 1].reshape(-1, 1))**2\n",
    "    \n",
    "    xy_dist = ( x_dist**2 + y_dist**2 )**0.5\n",
    "    \n",
    "    ## find shortest distance to each point, then find the max\n",
    "    xy_dist = np.amin(xy_dist, axis = 0)\n",
    "    xy_dist = np.where(xy_dist == max(xy_dist))\n",
    "    \n",
    "    ## return index of elbow point\n",
    "    return tie_breaker(xy_index[xy_dist[0]])\n",
    "\n",
    "def retrieve_clusters(idx, ml):\n",
    "    x = 'B_Intermediate/Model_' + ml + '_Clust.csv.gz'\n",
    "    x = pd.read_csv(x, usecols = [str(idx)]).squeeze().values\n",
    "    return x\n",
    "\n",
    "## execute code\n",
    "agglom_elbow = elbow_finder(agglom_score[['clusters', 'score']])\n",
    "dbscan_elbow = elbow_finder(dbscan_score[['clusters', 'score']])\n",
    "agglom_clusters = retrieve_clusters(agglom_elbow, 'Agglom')\n",
    "dbscan_clusters = retrieve_clusters(dbscan_elbow, 'DBSCAN')"
   ]
  },
  {
   "cell_type": "markdown",
   "id": "246e0f57-ddfc-4750-9ee9-6382bbe031c0",
   "metadata": {},
   "source": [
    "## EMR - Enrich Model Results"
   ]
  },
  {
   "cell_type": "markdown",
   "id": "d4e0976d-dd00-411a-9c77-e23dd233f27a",
   "metadata": {},
   "source": [
    "#### EMR1"
   ]
  },
  {
   "cell_type": "code",
   "execution_count": null,
   "id": "79f445de-fefb-4f4b-ac9a-560c2ea12125",
   "metadata": {},
   "outputs": [],
   "source": []
  },
  {
   "cell_type": "markdown",
   "id": "ac38a6b2-bd67-4cfd-b3ef-45d87ec20fc0",
   "metadata": {},
   "source": [
    "#### EMR2"
   ]
  },
  {
   "cell_type": "code",
   "execution_count": null,
   "id": "13daaba1-484d-449b-ba13-532d98ad4c64",
   "metadata": {},
   "outputs": [],
   "source": []
  },
  {
   "cell_type": "markdown",
   "id": "374809b7-53b4-4720-a8e4-b4ba395dc53a",
   "metadata": {},
   "source": [
    "## PVD - Prepare Visualization Data"
   ]
  },
  {
   "cell_type": "markdown",
   "id": "203acbe7-9577-4582-9299-91c5099c3392",
   "metadata": {},
   "source": [
    "#### PVD1 - Generate Population Region  Polygons From Cluster Assignments"
   ]
  },
  {
   "cell_type": "code",
   "execution_count": 14,
   "id": "67e4066a-99d3-4c41-92e7-6e80adeadae0",
   "metadata": {},
   "outputs": [],
   "source": [
    "## calculate voronoi polygons from cluster points\n",
    "def make_voronoi_polygons(xy, clusters):\n",
    "    \n",
    "    ## extract coordinates from Voronoi objects\n",
    "    vor = Voronoi(np.array(xy))\n",
    "    vor_polys = []\n",
    "    for i in vor.point_region:\n",
    "        vr = [j for j in vor.regions[i] if j >= 0]\n",
    "        vv = vor.vertices[vr, :]\n",
    "        vv= Polygon(vv)\n",
    "        vv = make_valid(vv)\n",
    "        vor_polys.append(vv)\n",
    "        \n",
    "    ## package as shapely polygons\n",
    "    cluster_polys = dict()\n",
    "    for i in set(clusters):\n",
    "        cluster_polys[i] = [vor_polys[j] for j in np.where(clusters == i)[0]]\n",
    "        cluster_polys[i] = unary_union(cluster_polys[i])\n",
    "    return cluster_polys\n",
    "\n",
    "agglom_region_polygons = make_voronoi_polygons(\n",
    "    dbf_data[['INTPTLON', 'INTPTLAT']], agglom_clusters)\n",
    "\n",
    "dbscan_region_polygons = make_voronoi_polygons(\n",
    "    dbf_data[['INTPTLON', 'INTPTLAT']], dbscan_clusters)"
   ]
  },
  {
   "cell_type": "markdown",
   "id": "6a2b35e9-de29-401c-b6d4-b872bcf3a693",
   "metadata": {},
   "source": [
    "#### PVD2"
   ]
  },
  {
   "cell_type": "code",
   "execution_count": null,
   "id": "4ee8fe1a-1aa5-4a58-a091-22a4df3cac0c",
   "metadata": {},
   "outputs": [],
   "source": []
  },
  {
   "cell_type": "markdown",
   "id": "d44eb901-c053-40db-b9c4-29229d60fa18",
   "metadata": {},
   "source": [
    "## RV - Render Visualization"
   ]
  },
  {
   "cell_type": "markdown",
   "id": "49ba65c4-114f-469d-83a9-73ded9e63547",
   "metadata": {},
   "source": [
    "#### RV1 - render plot understructure"
   ]
  },
  {
   "cell_type": "code",
   "execution_count": 15,
   "id": "eae507fa-f5f7-4a9a-8a7b-7fd0bb40bbef",
   "metadata": {},
   "outputs": [
    {
     "data": {
      "image/png": "[encoded data removed]",
      "text/plain": [
       "<Figure size 2592x1728 with 8 Axes>"
      ]
     },
     "metadata": {},
     "output_type": "display_data"
    }
   ],
   "source": [
    "def render_plot_understructure():\n",
    "    \n",
    "    ## define figure and grid\n",
    "    global the_figure\n",
    "    the_figure = plt.figure(figsize = (36, 24))\n",
    "    fig_grid = the_figure.add_gridspec(4, 6, figure = the_figure,\n",
    "        hspace = 0.01, wspace = 0.01, left = 0, right = 1, bottom = 0, top = 1)\n",
    "    the_figure.set_facecolor(set_color['div'])\n",
    "    \n",
    "    ## define axes\n",
    "    global all_axes\n",
    "    all_axes = dict()\n",
    "    all_axes['explain'] = the_figure.add_subplot(fig_grid[0:3, 0:1])\n",
    "    all_axes['elbow']   = the_figure.add_subplot(fig_grid[3:4, 0:1])\n",
    "    all_axes['dbscan']  = the_figure.add_subplot(fig_grid[0:2, 1:4],\n",
    "        projection = set_rv['map_proj'])\n",
    "    all_axes['agglom']  = the_figure.add_subplot(fig_grid[2:4, 1:4],\n",
    "        projection = set_rv['map_proj'])\n",
    "    all_axes['white']   = the_figure.add_subplot(fig_grid[0:2, 4:5])\n",
    "    all_axes['old']     = the_figure.add_subplot(fig_grid[2:4, 4:5])\n",
    "    all_axes['rich']    = the_figure.add_subplot(fig_grid[0:2, 5:6])\n",
    "    all_axes['potus']   = the_figure.add_subplot(fig_grid[2:4, 5:6])\n",
    "    \n",
    "    ## remove axis ticks\n",
    "    for i in all_axes.keys():\n",
    "        all_axes[i].tick_params(\n",
    "            labelbottom = False, labeltop = False,\n",
    "            labelleft = False, labelright = False,\n",
    "            bottom = False, top = False,\n",
    "            left = False, right = False,\n",
    "            color = 'red'\n",
    "            )\n",
    "        all_axes[i].set_facecolor(set_color['empty'])\n",
    "    \n",
    "## execute code\n",
    "render_plot_understructure()"
   ]
  },
  {
   "cell_type": "markdown",
   "id": "3bf64191-28a4-4dda-a0b4-c5f51c57e9e5",
   "metadata": {},
   "source": [
    "#### RV2 - Explanation ('explain')"
   ]
  },
  {
   "cell_type": "code",
   "execution_count": null,
   "id": "436aa42a-c927-4810-a511-ee56a79b1d28",
   "metadata": {},
   "outputs": [],
   "source": []
  },
  {
   "cell_type": "markdown",
   "id": "e21d64c3-e1b4-4bd4-8896-69c1a07a5f63",
   "metadata": {},
   "source": [
    "#### RV3 - Elbow charts ('elbow')"
   ]
  },
  {
   "cell_type": "code",
   "execution_count": null,
   "id": "158d9a68-e506-4140-ae8e-0765dc047ef1",
   "metadata": {},
   "outputs": [],
   "source": []
  },
  {
   "cell_type": "markdown",
   "id": "f5351a6f-6c05-4f5f-8803-0a1bfa30d3d9",
   "metadata": {},
   "source": [
    "#### RV4 - render cluster map panels ('dbscan', 'agglom')"
   ]
  },
  {
   "cell_type": "code",
   "execution_count": 16,
   "id": "85d88ccf-66d9-4aff-b06b-9693ea210435",
   "metadata": {},
   "outputs": [],
   "source": [
    "def render_region(ax, poly, dbf = dbf_data):\n",
    "    \n",
    "    ## set extent\n",
    "    all_axes[ax].set_extent(set_rv['extent'])\n",
    "    \n",
    "    ## render map layers\n",
    "    for i in poly.keys():\n",
    "        if i != -1:\n",
    "            all_axes[ax].fill(*poly[i].exterior.xy, zorder = 0,\n",
    "                color = set_color['reg_area'], transform = PlateCarree())\n",
    "            \n",
    "    all_axes[ax].add_geometries(list(feature.STATES.geometries()),\n",
    "        facecolor = '#33221100', lw = 1, edgecolor = set_color['border'],\n",
    "        zorder = 1, crs = PlateCarree())\n",
    "    \n",
    "    all_axes[ax].add_feature(feature.LAKES, facecolor = '#33221100',\n",
    "        lw = 1, edgecolor = set_color['border'], zorder = 2)\n",
    "    \n",
    "    for i in poly.keys():\n",
    "        if i != -1:\n",
    "            all_axes[ax].plot(*poly[i].exterior.xy, zorder = 3,\n",
    "                color = set_color['reg_line'], transform = PlateCarree())\n",
    "\n",
    "    all_axes[ax].add_feature(feature.OCEAN, facecolor = set_color['empty'],\n",
    "        lw = 1, edgecolor = set_color['border'], zorder = 4)\n",
    "    \n",
    "    ## render census tract centroids (plot clutter risk?)\n",
    "    all_axes[ax].scatter(dbf.INTPTLON, dbf.INTPTLAT, s = 1, zorder = 5,\n",
    "        color = set_color['tract'], transform = PlateCarree())\n",
    "\n",
    "## execute code\n",
    "render_region('dbscan', dbscan_region_polygons)\n",
    "render_region('agglom', agglom_region_polygons)"
   ]
  },
  {
   "cell_type": "markdown",
   "id": "3aeebb06-c07c-4975-b1d8-f964df6ee5c3",
   "metadata": {},
   "source": [
    "#### RV5 - render DBSCAN data profile insets ('white', 'rich', 'old', 'potus')"
   ]
  },
  {
   "cell_type": "code",
   "execution_count": null,
   "id": "8291e682-93f1-46a9-8712-597f5faccaae",
   "metadata": {},
   "outputs": [],
   "source": []
  },
  {
   "cell_type": "markdown",
   "id": "4a5115a9-7210-4bcc-a7f5-b3ba8dce55e2",
   "metadata": {},
   "source": [
    "## F - Footer"
   ]
  },
  {
   "cell_type": "code",
   "execution_count": 17,
   "id": "20191b03-9043-4e5b-85d2-f97aa357a597",
   "metadata": {},
   "outputs": [],
   "source": [
    "def save_poster():\n",
    "    the_figure.savefig('C_Output/pop_cluster_map.png')\n",
    "    the_figure.savefig('C_Output/pop_cluster_map.pdf')\n",
    "save_poster()"
   ]
  },
  {
   "cell_type": "code",
   "execution_count": 18,
   "id": "db352693-855a-402d-af68-6a1d8639a427",
   "metadata": {},
   "outputs": [
    {
     "name": "stdout",
     "output_type": "stream",
     "text": [
      "Time log:\n",
      "   H2: 18:30:43\n",
      "  GD1: 18:30:46\n",
      "  RD1: 18:30:53\n",
      "  MD1: 18:30:53\n",
      "  MD2: 18:30:53\n",
      "  End: 18:30:59\n"
     ]
    }
   ],
   "source": [
    "log_time()"
   ]
  },
  {
   "cell_type": "code",
   "execution_count": 19,
   "id": "9b249d53-d193-4008-9975-a451284ee066",
   "metadata": {},
   "outputs": [],
   "source": [
    "##########==========##########==========##########==========##########=========="
   ]
  }
 ],
 "metadata": {
  "kernelspec": {
   "display_name": "Python 3 (ipykernel)",
   "language": "python",
   "name": "python3"
  },
  "language_info": {
   "codemirror_mode": {
    "name": "ipython",
    "version": 3
   },
   "file_extension": ".py",
   "mimetype": "text/x-python",
   "name": "python",
   "nbconvert_exporter": "python",
   "pygments_lexer": "ipython3",
   "version": "3.10.4"
  }
 },
 "nbformat": 4,
 "nbformat_minor": 5
}
