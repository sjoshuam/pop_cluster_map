{
 "cells": [
  {
   "cell_type": "code",
   "execution_count": 1,
   "id": "7b9fa3d6-659f-41ec-84a6-a4e0f74483fc",
   "metadata": {},
   "outputs": [],
   "source": [
    "##########==========##########==========##########==========##########=========="
   ]
  },
  {
   "cell_type": "markdown",
   "id": "483602c9-ee7e-41db-b699-f94f3d4c47f5",
   "metadata": {},
   "source": [
    "## H - Header"
   ]
  },
  {
   "cell_type": "markdown",
   "id": "0ecd1788-b7ae-4804-90f4-9cc6e1c7212f",
   "metadata": {},
   "source": [
    "#### H1 – libraries"
   ]
  },
  {
   "cell_type": "code",
   "execution_count": 2,
   "id": "c402192e-708e-4a74-a345-c7bfea14b411",
   "metadata": {},
   "outputs": [],
   "source": [
    "## standard foundational libraries\n",
    "import numpy  as np\n",
    "import pandas as pd\n",
    "\n",
    "## import specific function\n",
    "from os             import mkdir, listdir\n",
    "from os.path        import isfile, isdir\n",
    "from datetime       import datetime, timedelta\n",
    "from dbfread        import DBF\n",
    "from geopy.distance import geodesic\n",
    "from ipyparallel    import Cluster"
   ]
  },
  {
   "cell_type": "markdown",
   "id": "266e6bfc-e689-4615-9477-57587afc184a",
   "metadata": {},
   "source": [
    "#### H2 – basic automation"
   ]
  },
  {
   "cell_type": "code",
   "execution_count": 3,
   "id": "97f50357-a7fd-4ad3-9952-7de305854e8f",
   "metadata": {},
   "outputs": [],
   "source": [
    "## set up standard directories if needed\n",
    "def make_standard_file_system():\n",
    "    for i in ['A_Input', 'B_Intermediate', 'C_Output']:\n",
    "        if not isdir(i): mkdir(i)\n",
    "\n",
    "## log time elapsed\n",
    "time_log = dict()\n",
    "def log_time(the_id = 'End Log'):\n",
    "    \n",
    "    ## construct new time stamp\n",
    "    now_time = str(datetime.now().hour).zfill(2)\n",
    "    now_time = now_time +':'+ str(datetime.now().minute).zfill(2)\n",
    "    now_time = now_time +':'+ str(datetime.now().second).zfill(2)\n",
    "\n",
    "    ## add to time log\n",
    "    if the_id == 'End Log':\n",
    "        time_log['End'] = now_time\n",
    "        print('Time log:')\n",
    "        for i in time_log.keys():\n",
    "            print(i.rjust(5) + ':', time_log[i])\n",
    "    else:\n",
    "        time_log[the_id] = now_time\n",
    "        \n",
    "## toggle cache versus build\n",
    "def build_or_cache(function, address, permit):\n",
    "    if permit and isfile(address):\n",
    "        print('Build/Cache Decision: Cache')\n",
    "        the_file = pd.read_csv(address)\n",
    "    else:\n",
    "        print('Build/Cache Decision: Build')\n",
    "        the_file = function()\n",
    "    return the_file\n",
    "    \n",
    "## execute functions\n",
    "make_standard_file_system()\n",
    "log_time('H2')"
   ]
  },
  {
   "cell_type": "markdown",
   "id": "aa200f04-560d-41a2-aa39-32cde6a5fcdd",
   "metadata": {},
   "source": [
    "#### H3 – settings"
   ]
  },
  {
   "cell_type": "code",
   "execution_count": 4,
   "id": "2a810ea4-69f8-446d-ae9b-fae82f7a0023",
   "metadata": {},
   "outputs": [],
   "source": [
    "## server mode (switches off data sampling; full distance data too big for a PC)\n",
    "server_mode = False\n",
    "\n",
    "## GD settings\n",
    "set_gd = dict()\n",
    "\n",
    "## RD settings\n",
    "set_rd = {'1_cache': True}\n",
    "\n",
    "## MD settings\n",
    "set_md = dict()\n",
    "\n",
    "## EMR settings\n",
    "set_emr = dict()\n",
    "\n",
    "## PVD settings\n",
    "set_pvd = dict()\n",
    "\n",
    "## RV settings\n",
    "set_rv = dict()"
   ]
  },
  {
   "cell_type": "markdown",
   "id": "9996ca5b-6afa-4efd-beec-4478c9896c4c",
   "metadata": {},
   "source": [
    "## GD - Gather Data"
   ]
  },
  {
   "cell_type": "markdown",
   "id": "d373c0c5-10b3-4028-95c4-ed57b16fdff3",
   "metadata": {},
   "source": [
    "Primary data source:\n",
    "+ 2020 TIGER shapefiles from the US Census (the .dbf files)\n",
    "+ 2020 DP series population summary tables from US Census (as needed)"
   ]
  },
  {
   "cell_type": "markdown",
   "id": "3b2efc95-73d7-4ea5-a4bf-4c531d8dc57b",
   "metadata": {},
   "source": [
    "#### GD1 - read in primary data (census tract shapefile .dbfs)"
   ]
  },
  {
   "cell_type": "code",
   "execution_count": 5,
   "id": "1c9897df-5ebb-46bd-a49e-98718c379f6b",
   "metadata": {
    "tags": []
   },
   "outputs": [],
   "source": [
    "## read in dbf files for census tracts\n",
    "def read_tract_dbf(directory):\n",
    "    \n",
    "    ## file dbf files in target directory\n",
    "    dbf_addr = listdir(directory)\n",
    "    dbf_addr = [i for i in dbf_addr if i[-3::] == 'dbf']\n",
    "    \n",
    "    ## read relevant columns from each\n",
    "    desired_columns = {'GEOID': str,\n",
    "                       'STATEFP': str, 'COUNTYFP':str, 'TRACTCE':str,\n",
    "                        'INTPTLAT': float, 'INTPTLON': float, 'ALAND': int}\n",
    "    dbf_data = []\n",
    "    for i in dbf_addr:\n",
    "        i_dbf = pd.DataFrame(iter(DBF(directory + '/' + i)))\n",
    "        i_dbf = i_dbf[desired_columns.keys()].astype(desired_columns)\n",
    "        dbf_data.append(i_dbf)\n",
    "        \n",
    "    ## compile data into a single file and export\n",
    "    dbf_data = pd.concat(dbf_data, axis = 0).sort_values('GEOID')\n",
    "    dbf_data = dbf_data.reset_index(drop = True)\n",
    "    dbf_data.to_csv('B_Intermediate/dbf_data.csv.gz')\n",
    "    return dbf_data\n",
    "    \n",
    "## execute code\n",
    "dbf_data = read_tract_dbf('A_Input/tracts_dbf')\n",
    "if not server_mode:\n",
    "    dbf_data = dbf_data.loc[dbf_data.STATEFP.isin(['49', '08', '04', '35'])]\n",
    "log_time('GD1')"
   ]
  },
  {
   "cell_type": "markdown",
   "id": "dca96540-be5a-4a32-b864-e943df7b9fec",
   "metadata": {},
   "source": [
    "#### GD2 - Read in secondary data (census DP table columns)"
   ]
  },
  {
   "cell_type": "code",
   "execution_count": 6,
   "id": "b201aacb-a203-42ba-a23a-dd759d3dbd5c",
   "metadata": {},
   "outputs": [
    {
     "name": "stdout",
     "output_type": "stream",
     "text": [
      "             GEOID STATEFP COUNTYFP TRACTCE   INTPTLAT    INTPTLON       ALAND\n",
      "1437   04001942600      04      001  942600  36.752621 -109.847229  1525247269\n",
      "1438   04001942700      04      001  942700  36.755256 -109.368058  2990231682\n",
      "1439   04001944000      04      001  944000  35.950683 -109.146142   791413501\n",
      "1440   04001944100      04      001  944100  36.388911 -109.316317  1830863806\n",
      "1441   04001944201      04      001  944201  36.153428 -109.685341   502007070\n",
      "...            ...     ...      ...     ...        ...         ...         ...\n",
      "77348  49057210900      49      057  210900  41.174956 -111.958681     4514100\n",
      "77349  49057211000      49      057  211000  41.181342 -111.978033     1424120\n",
      "77350  49057211100      49      057  211100  41.164136 -111.979655     4319446\n",
      "77351  49057211201      49      057  211201  41.157778 -111.887136    23275491\n",
      "77352  49057211202      49      057  211202  41.150167 -111.946949     8017160\n",
      "\n",
      "[4540 rows x 7 columns]\n"
     ]
    }
   ],
   "source": []
  },
  {
   "cell_type": "markdown",
   "id": "c59b35fe-09d5-449c-80f7-b9cf0b0cfc37",
   "metadata": {},
   "source": [
    "## RD - Refine Data"
   ]
  },
  {
   "cell_type": "markdown",
   "id": "52bba94a-9f9a-496d-b8b2-454bcad0619d",
   "metadata": {},
   "source": [
    "#### RD1 – calculate and cache geographic distances between tract centroids"
   ]
  },
  {
   "cell_type": "code",
   "execution_count": 7,
   "id": "11a9c611-546b-4d5c-b717-3f6c54cd656a",
   "metadata": {},
   "outputs": [
    {
     "name": "stdout",
     "output_type": "stream",
     "text": [
      "Build/Cache Decision: Cache\n"
     ]
    }
   ],
   "source": [
    "## reshape tract coordinate data to input format\n",
    "tract_xy = list(zip(dbf_data.INTPTLAT.values, dbf_data.INTPTLON.values))\n",
    "\n",
    "## define function to do distance compuations in parallel\n",
    "def measure_distance_in_parallel(xy = tract_xy):\n",
    "    the_iter = list(range(0, len(xy)))\n",
    "    \n",
    "    ## define engine function that will run on each parallel process\n",
    "    def measure_distance_parallel_slice(n, xy_col = xy):\n",
    "        from geopy.distance import geodesic\n",
    "        xy_col = xy_col.copy()\n",
    "        xy_row = xy_col[n]\n",
    "        xy_dist = []\n",
    "        for i in xy_col[0:n]: xy_dist.append(0)\n",
    "        for i in xy_col[n::]:\n",
    "            xy_dist.append(int(round(geodesic(xy_row, i).miles)))\n",
    "        return xy_dist\n",
    "\n",
    "    ## run engine in parallel for each slice of the data\n",
    "    with Cluster(n = 4) as clust:\n",
    "        view = clust.load_balanced_view()\n",
    "        asyncresult = view.map_async(measure_distance_parallel_slice, the_iter)\n",
    "        asyncresult.wait_interactive()\n",
    "        result = asyncresult.get()\n",
    "        \n",
    "    ## package results and export\n",
    "    result = np.array(result)\n",
    "    result = result + result.T\n",
    "    np.savetxt('B_Intermediate/tract_distance.csv.gz', result, delimiter = ',',\n",
    "            fmt = '%u')\n",
    "    return result\n",
    "\n",
    "tract_distance = build_or_cache(\n",
    "    function = measure_distance_in_parallel,\n",
    "    address = 'B_Intermediate/tract_distance.csv.gz',\n",
    "    permit = set_rd['1_cache']\n",
    "    )\n",
    "\n",
    "log_time('RD1')"
   ]
  },
  {
   "cell_type": "markdown",
   "id": "9601721c-6ac0-4206-8b41-7dc0f99ba12a",
   "metadata": {},
   "source": [
    "#### RD2"
   ]
  },
  {
   "cell_type": "code",
   "execution_count": null,
   "id": "cd121a39-e3dd-4dca-a014-6b67d5a1b2ce",
   "metadata": {},
   "outputs": [],
   "source": []
  },
  {
   "cell_type": "markdown",
   "id": "ab2bc34c-768b-456c-9c94-ec44196844c8",
   "metadata": {},
   "source": [
    "## MD - Model Data"
   ]
  },
  {
   "cell_type": "markdown",
   "id": "53422e30-1a5d-4e66-8f4a-431413efad83",
   "metadata": {},
   "source": [
    "#### MD1"
   ]
  },
  {
   "cell_type": "code",
   "execution_count": null,
   "id": "ddd5cd65-9122-4230-be26-e594d798ab99",
   "metadata": {},
   "outputs": [],
   "source": []
  },
  {
   "cell_type": "markdown",
   "id": "0e886582-2589-4cea-af93-0911f4c54611",
   "metadata": {},
   "source": [
    "#### MD2"
   ]
  },
  {
   "cell_type": "code",
   "execution_count": null,
   "id": "3df48228-809e-4e3d-b9c2-996aaae7ccfd",
   "metadata": {},
   "outputs": [],
   "source": []
  },
  {
   "cell_type": "markdown",
   "id": "246e0f57-ddfc-4750-9ee9-6382bbe031c0",
   "metadata": {},
   "source": [
    "## EMR - Enrich Model Results"
   ]
  },
  {
   "cell_type": "markdown",
   "id": "d4e0976d-dd00-411a-9c77-e23dd233f27a",
   "metadata": {},
   "source": [
    "#### EMR1"
   ]
  },
  {
   "cell_type": "code",
   "execution_count": null,
   "id": "79f445de-fefb-4f4b-ac9a-560c2ea12125",
   "metadata": {},
   "outputs": [],
   "source": []
  },
  {
   "cell_type": "markdown",
   "id": "ac38a6b2-bd67-4cfd-b3ef-45d87ec20fc0",
   "metadata": {},
   "source": [
    "#### EMR2"
   ]
  },
  {
   "cell_type": "code",
   "execution_count": null,
   "id": "13daaba1-484d-449b-ba13-532d98ad4c64",
   "metadata": {},
   "outputs": [],
   "source": []
  },
  {
   "cell_type": "markdown",
   "id": "374809b7-53b4-4720-a8e4-b4ba395dc53a",
   "metadata": {},
   "source": [
    "## PVD - Prepare Visualization Data"
   ]
  },
  {
   "cell_type": "markdown",
   "id": "203acbe7-9577-4582-9299-91c5099c3392",
   "metadata": {},
   "source": [
    "#### PVD1"
   ]
  },
  {
   "cell_type": "code",
   "execution_count": null,
   "id": "67e4066a-99d3-4c41-92e7-6e80adeadae0",
   "metadata": {},
   "outputs": [],
   "source": []
  },
  {
   "cell_type": "markdown",
   "id": "6a2b35e9-de29-401c-b6d4-b872bcf3a693",
   "metadata": {},
   "source": [
    "#### PVD2"
   ]
  },
  {
   "cell_type": "code",
   "execution_count": null,
   "id": "4ee8fe1a-1aa5-4a58-a091-22a4df3cac0c",
   "metadata": {},
   "outputs": [],
   "source": []
  },
  {
   "cell_type": "markdown",
   "id": "d44eb901-c053-40db-b9c4-29229d60fa18",
   "metadata": {},
   "source": [
    "## RV - Render Visualization"
   ]
  },
  {
   "cell_type": "markdown",
   "id": "49ba65c4-114f-469d-83a9-73ded9e63547",
   "metadata": {},
   "source": [
    "#### RV1"
   ]
  },
  {
   "cell_type": "code",
   "execution_count": null,
   "id": "03653764-eb82-4dee-9089-4922e9003ebd",
   "metadata": {},
   "outputs": [],
   "source": []
  },
  {
   "cell_type": "markdown",
   "id": "aadfe998-02dd-40b3-aa14-fb3f19ffd791",
   "metadata": {},
   "source": [
    "#### RV2"
   ]
  },
  {
   "cell_type": "code",
   "execution_count": 8,
   "id": "8291e682-93f1-46a9-8712-597f5faccaae",
   "metadata": {},
   "outputs": [
    {
     "name": "stdout",
     "output_type": "stream",
     "text": [
      "        0   27   68   39   42   45   30   55   82   81  ...  328.41  327.36  \\\n",
      "0      27    0   57   25   45   41   37   55   78   84  ...     337     337   \n",
      "1      68   57    0   32   33   24   43   26   26   42  ...     393     392   \n",
      "2      39   25   32    0   26   18   25   32   53   61  ...     362     361   \n",
      "3      42   45   33   26    0   12   13   13   41   40  ...     369     368   \n",
      "4      45   41   24   18   12    0   19   15   38   43  ...     372     371   \n",
      "...   ...  ...  ...  ...  ...  ...  ...  ...  ...  ...  ...     ...     ...   \n",
      "4534  326  335  391  360  368  370  355  380  408  405  ...       4       4   \n",
      "4535  326  336  392  360  368  371  355  381  409  405  ...       3       3   \n",
      "4536  325  335  391  359  367  370  354  380  408  404  ...       3       3   \n",
      "4537  323  333  389  357  365  368  352  378  405  402  ...       8       8   \n",
      "4538  324  333  389  358  366  368  353  378  406  403  ...       5       5   \n",
      "\n",
      "      327.37  326.25  327.38  326.26  326.27  325.32  323.26  324.24  \n",
      "0        337     336     337     335     336     335     333     333  \n",
      "1        393     392     393     391     392     391     389     389  \n",
      "2        361     360     361     360     360     359     357     358  \n",
      "3        369     368     369     368     368     367     365     366  \n",
      "4        372     371     372     370     371     370     368     368  \n",
      "...      ...     ...     ...     ...     ...     ...     ...     ...  \n",
      "4534       5       5       1       0       1       1       4       2  \n",
      "4535       4       4       1       1       0       1       5       3  \n",
      "4536       4       3       2       1       1       0       5       2  \n",
      "4537       8       8       5       4       5       5       0       3  \n",
      "4538       5       5       3       2       3       2       3       0  \n",
      "\n",
      "[4539 rows x 4540 columns]\n",
      "4540\n",
      "(4539, 4540)\n"
     ]
    }
   ],
   "source": []
  },
  {
   "cell_type": "markdown",
   "id": "4a5115a9-7210-4bcc-a7f5-b3ba8dce55e2",
   "metadata": {},
   "source": [
    "## F - Footer"
   ]
  },
  {
   "cell_type": "code",
   "execution_count": 9,
   "id": "db352693-855a-402d-af68-6a1d8639a427",
   "metadata": {},
   "outputs": [
    {
     "name": "stdout",
     "output_type": "stream",
     "text": [
      "Time log:\n",
      "   H2: 16:12:40\n",
      "  GD1: 16:12:43\n",
      "  RD1: 16:12:47\n",
      "  End: 16:12:47\n"
     ]
    }
   ],
   "source": [
    "log_time()"
   ]
  },
  {
   "cell_type": "code",
   "execution_count": 10,
   "id": "9b249d53-d193-4008-9975-a451284ee066",
   "metadata": {},
   "outputs": [],
   "source": [
    "##########==========##########==========##########==========##########=========="
   ]
  }
 ],
 "metadata": {
  "kernelspec": {
   "display_name": "Python 3 (ipykernel)",
   "language": "python",
   "name": "python3"
  },
  "language_info": {
   "codemirror_mode": {
    "name": "ipython",
    "version": 3
   },
   "file_extension": ".py",
   "mimetype": "text/x-python",
   "name": "python",
   "nbconvert_exporter": "python",
   "pygments_lexer": "ipython3",
   "version": "3.10.4"
  }
 },
 "nbformat": 4,
 "nbformat_minor": 5
}
